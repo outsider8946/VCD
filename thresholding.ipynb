{
 "cells": [
  {
   "cell_type": "code",
   "execution_count": 1,
   "id": "initial_id",
   "metadata": {
    "collapsed": true,
    "ExecuteTime": {
     "end_time": "2024-09-14T16:50:35.739041800Z",
     "start_time": "2024-09-14T16:50:35.495036600Z"
    }
   },
   "outputs": [],
   "source": [
    "import cv2\n",
    "import numpy as np"
   ]
  },
  {
   "cell_type": "code",
   "outputs": [],
   "source": [
    "PATH2DATA = 'C:/Users/abram/Documents/books/Kopytov/FIVES A Fundus Image Dataset for AI-based Vessel Segmentation'"
   ],
   "metadata": {
    "collapsed": false,
    "ExecuteTime": {
     "end_time": "2024-09-14T16:50:35.780040100Z",
     "start_time": "2024-09-14T16:50:35.746043400Z"
    }
   },
   "id": "1444823403a71c1c",
   "execution_count": 2
  },
  {
   "cell_type": "markdown",
   "source": [
    "Load image"
   ],
   "metadata": {
    "collapsed": false
   },
   "id": "fd591a4c3f8fc2f4"
  },
  {
   "cell_type": "code",
   "outputs": [],
   "source": [
    "def get_img():\n",
    "    img = cv2.imread(PATH2DATA + '/train/Original/1_A.png')\n",
    "    return cv2.resize(img, (512, 512))"
   ],
   "metadata": {
    "collapsed": false,
    "ExecuteTime": {
     "end_time": "2024-09-14T16:53:18.424912500Z",
     "start_time": "2024-09-14T16:53:18.393588500Z"
    }
   },
   "id": "399572212873e02",
   "execution_count": 14
  },
  {
   "cell_type": "code",
   "outputs": [
    {
     "data": {
      "text/plain": "-1"
     },
     "execution_count": 19,
     "metadata": {},
     "output_type": "execute_result"
    }
   ],
   "source": [
    "img2draw = get_img()\n",
    "img = cv2.cvtColor(img2draw, cv2.COLOR_BGR2GRAY)\n",
    "cv2.imshow('Original', img)\n",
    "cv2.waitKey(0)"
   ],
   "metadata": {
    "collapsed": false,
    "ExecuteTime": {
     "end_time": "2024-09-14T16:54:20.385477500Z",
     "start_time": "2024-09-14T16:54:19.115145800Z"
    }
   },
   "id": "fee11b76bdddd996",
   "execution_count": 19
  },
  {
   "cell_type": "code",
   "outputs": [
    {
     "data": {
      "text/plain": "-1"
     },
     "execution_count": 6,
     "metadata": {},
     "output_type": "execute_result"
    }
   ],
   "source": [
    "thresh = cv2.adaptiveThreshold(img, 255, cv2.ADAPTIVE_THRESH_GAUSSIAN_C, cv2.THRESH_BINARY_INV,53,10)\n",
    "cv2.imshow('bin',thresh)\n",
    "cv2.waitKey(0)"
   ],
   "metadata": {
    "collapsed": false,
    "ExecuteTime": {
     "end_time": "2024-09-14T16:51:38.971769300Z",
     "start_time": "2024-09-14T16:51:37.064067700Z"
    }
   },
   "id": "bf3c85f76e6300aa",
   "execution_count": 6
  },
  {
   "cell_type": "markdown",
   "source": [
    "Adaptive threshold"
   ],
   "metadata": {
    "collapsed": false
   },
   "id": "67e431cfa5333410"
  },
  {
   "cell_type": "code",
   "outputs": [
    {
     "data": {
      "text/plain": "-1"
     },
     "execution_count": 24,
     "metadata": {},
     "output_type": "execute_result"
    }
   ],
   "source": [
    "img2draw = get_img()\n",
    "thresh = cv2.adaptiveThreshold(img, 255, cv2.ADAPTIVE_THRESH_GAUSSIAN_C, cv2.THRESH_BINARY_INV,53,10)\n",
    "contours, hierarchy = cv2.findContours(thresh, cv2.RETR_LIST, cv2.CHAIN_APPROX_SIMPLE)\n",
    "cv2.drawContours(img2draw, contours, -1,(255,0,0),2)\n",
    "cv2.imshow('test',img2draw)\n",
    "cv2.waitKey(0)"
   ],
   "metadata": {
    "collapsed": false,
    "ExecuteTime": {
     "end_time": "2024-09-14T16:54:47.816754400Z",
     "start_time": "2024-09-14T16:54:45.348698400Z"
    }
   },
   "id": "992fb71eb01d7a12",
   "execution_count": 24
  },
  {
   "cell_type": "markdown",
   "source": [
    "Canny"
   ],
   "metadata": {
    "collapsed": false
   },
   "id": "95e3feda891b4795"
  },
  {
   "cell_type": "code",
   "outputs": [
    {
     "data": {
      "text/plain": "-1"
     },
     "execution_count": 33,
     "metadata": {},
     "output_type": "execute_result"
    }
   ],
   "source": [
    "img2draw = get_img()\n",
    "blurred = cv2.GaussianBlur(img, (5, 5), 0)\n",
    "thresh = cv2.adaptiveThreshold(blurred, 255, cv2.ADAPTIVE_THRESH_GAUSSIAN_C, cv2.THRESH_BINARY_INV,53,13)\n",
    "edges = cv2.Canny(thresh,100,200)\n",
    "contours, _ = cv2.findContours(edges, cv2.RETR_TREE, cv2.CHAIN_APPROX_SIMPLE)\n",
    "cv2.drawContours(img2draw, contours, -1,(255,0,0),2)\n",
    "cv2.imshow('canny',img2draw)\n",
    "cv2.waitKey(0)"
   ],
   "metadata": {
    "collapsed": false,
    "ExecuteTime": {
     "end_time": "2024-09-14T16:55:47.920416700Z",
     "start_time": "2024-09-14T16:55:46.862560300Z"
    }
   },
   "id": "6dd0b39d6153e278",
   "execution_count": 33
  },
  {
   "cell_type": "code",
   "outputs": [
    {
     "data": {
      "text/plain": "-1"
     },
     "execution_count": 39,
     "metadata": {},
     "output_type": "execute_result"
    }
   ],
   "source": [
    "img2draw = get_img()\n",
    "edges = cv2.Canny(img,100,200)\n",
    "contours, _ = cv2.findContours(edges, cv2.RETR_TREE, cv2.CHAIN_APPROX_SIMPLE)\n",
    "cv2.drawContours(img2draw, contours, -1,(255,0,0),2)\n",
    "cv2.imshow('canny',img2draw)\n",
    "cv2.waitKey(0)"
   ],
   "metadata": {
    "collapsed": false,
    "ExecuteTime": {
     "end_time": "2024-09-14T16:56:49.401738Z",
     "start_time": "2024-09-14T16:56:41.606939900Z"
    }
   },
   "id": "22fedd7b604242fa",
   "execution_count": 39
  },
  {
   "cell_type": "markdown",
   "source": [
    "Sobel"
   ],
   "metadata": {
    "collapsed": false
   },
   "id": "60a338da136e0d78"
  },
  {
   "cell_type": "code",
   "outputs": [
    {
     "data": {
      "text/plain": "-1"
     },
     "execution_count": 13,
     "metadata": {},
     "output_type": "execute_result"
    }
   ],
   "source": [
    "sobel_x = cv2.Sobel(img, cv2.CV_64F, 1, 0, ksize=3)  # Градиент по оси X\n",
    "sobel_y = cv2.Sobel(img, cv2.CV_64F, 0, 1, ksize=3)  # Градиент по оси Y\n",
    "sobel_combined = cv2.magnitude(sobel_x, sobel_y)\n",
    "sobel_combined = np.uint8(np.absolute(sobel_combined))\n",
    "\n",
    "img2draw = img.copy()\n",
    "thresh = cv2.adaptiveThreshold(sobel_combined,255, cv2.ADAPTIVE_THRESH_GAUSSIAN_C, cv2.THRESH_BINARY_INV,53,10)\n",
    "contours, _ = cv2.findContours(thresh, cv2.RETR_TREE, cv2.CHAIN_APPROX_SIMPLE)\n",
    "cv2.drawContours(img2draw, contours, -1,(255,0,0),2)\n",
    "cv2.imshow('sobel',img2draw)\n",
    "cv2.waitKey(0)"
   ],
   "metadata": {
    "collapsed": false,
    "ExecuteTime": {
     "end_time": "2024-09-14T16:47:37.859814500Z",
     "start_time": "2024-09-14T16:47:36.173349100Z"
    }
   },
   "id": "2cafb5025ec3dd01",
   "execution_count": 13
  }
 ],
 "metadata": {
  "kernelspec": {
   "display_name": "Python 3",
   "language": "python",
   "name": "python3"
  },
  "language_info": {
   "codemirror_mode": {
    "name": "ipython",
    "version": 2
   },
   "file_extension": ".py",
   "mimetype": "text/x-python",
   "name": "python",
   "nbconvert_exporter": "python",
   "pygments_lexer": "ipython2",
   "version": "2.7.6"
  }
 },
 "nbformat": 4,
 "nbformat_minor": 5
}
